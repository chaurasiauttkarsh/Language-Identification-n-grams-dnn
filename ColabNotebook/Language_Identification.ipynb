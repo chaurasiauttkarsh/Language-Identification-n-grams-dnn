{
  "nbformat": 4,
  "nbformat_minor": 0,
  "metadata": {
    "colab": {
      "name": "Language Identification.ipynb",
      "provenance": [],
      "collapsed_sections": [],
      "authorship_tag": "ABX9TyME1EEpXAwBzHj4xxx9lSpw",
      "include_colab_link": true
    },
    "kernelspec": {
      "name": "python3",
      "display_name": "Python 3"
    },
    "language_info": {
      "name": "python"
    }
  },
  "cells": [
    {
      "cell_type": "markdown",
      "metadata": {
        "id": "view-in-github",
        "colab_type": "text"
      },
      "source": [
        "<a href=\"https://colab.research.google.com/github/chaurasiauttkarsh/Language-Identification-n-grams-dnn/blob/main/ColabNotebook/Language_Identification.ipynb\" target=\"_parent\"><img src=\"https://colab.research.google.com/assets/colab-badge.svg\" alt=\"Open In Colab\"/></a>"
      ]
    },
    {
      "cell_type": "markdown",
      "metadata": {
        "id": "NUVHRnGF9ek9"
      },
      "source": [
        "### Dataset"
      ]
    },
    {
      "cell_type": "markdown",
      "metadata": {
        "id": "A09fXiqphzMR"
      },
      "source": [
        "\n",
        "WiLI-2018, the Wikipedia language identification benchmark dataset, contains 235000 paragraphs of 235 languages. Each language in this dataset contains 1000 rows/paragraphs. The following is the subset of dataset used:\n",
        "\n",
        "⦁ English\n",
        "⦁ Arabic\n",
        "⦁ French\n",
        "⦁ Hindi\n",
        "⦁ Urdu\n",
        "⦁ Portuguese\n",
        "⦁ Persian\n",
        "⦁ Pushto\n",
        "⦁ Spanish\n",
        "⦁ Korean\n",
        "⦁ Tamil\n",
        "⦁ Turkish\n",
        "⦁ Estonian\n",
        "⦁ Russian\n",
        "⦁ Romanian\n",
        "⦁ Chinese\n",
        "⦁ Swedish\n",
        "⦁ Latin\n",
        "⦁ Indonesian\n",
        "⦁ Dutch\n",
        "⦁ Japanese\n",
        "⦁ Thai\n",
        "\n",
        "\n",
        "https://www.kaggle.com/zarajamshaid/language-identification-datasst"
      ]
    },
    {
      "cell_type": "markdown",
      "metadata": {
        "id": "DmXH0RP29vGs"
      },
      "source": [
        "### Importing the libraries"
      ]
    },
    {
      "cell_type": "code",
      "metadata": {
        "id": "hqf0kGZigR-z"
      },
      "source": [
        "import pandas as pd # Pandas\n",
        "import numpy as np # Numpy\n",
        "import re # Regular Expressions\n",
        "import seaborn as sns # Seaborn\n",
        "import matplotlib.pyplot as plt # Matplotlib"
      ],
      "execution_count": null,
      "outputs": []
    },
    {
      "cell_type": "markdown",
      "metadata": {
        "id": "rmllevcy-GTk"
      },
      "source": [
        "### Loading the dataset from drive location"
      ]
    },
    {
      "cell_type": "code",
      "metadata": {
        "colab": {
          "base_uri": "https://localhost:8080/"
        },
        "id": "flldkAdJh960",
        "outputId": "ef39e5ed-d8d0-4a6c-91c6-dd89b5abd47d"
      },
      "source": [
        "from google.colab import drive \n",
        "drive.mount('/content/gdrive')"
      ],
      "execution_count": null,
      "outputs": [
        {
          "output_type": "stream",
          "name": "stdout",
          "text": [
            "Mounted at /content/gdrive\n"
          ]
        }
      ]
    },
    {
      "cell_type": "code",
      "metadata": {
        "colab": {
          "base_uri": "https://localhost:8080/"
        },
        "id": "t-yDLITJiSJ4",
        "outputId": "6a17142a-0a55-410f-cec7-23afdd54c092"
      },
      "source": [
        "cd /content/gdrive/MyDrive/NLP/Language Identification"
      ],
      "execution_count": null,
      "outputs": [
        {
          "output_type": "stream",
          "name": "stdout",
          "text": [
            "/content/gdrive/MyDrive/NLP/Language Identification\n"
          ]
        }
      ]
    },
    {
      "cell_type": "markdown",
      "metadata": {
        "id": "icvKT0IT-aj9"
      },
      "source": [
        "### Dataset Inspection"
      ]
    },
    {
      "cell_type": "code",
      "metadata": {
        "colab": {
          "base_uri": "https://localhost:8080/",
          "height": 359
        },
        "id": "38WMu_Eqibf4",
        "outputId": "c673244e-ee15-41c6-837a-d5706d2575a1"
      },
      "source": [
        "data = pd.read_csv(\"dataset.csv\")\n",
        "data.head(10)"
      ],
      "execution_count": null,
      "outputs": [
        {
          "output_type": "execute_result",
          "data": {
            "text/html": [
              "<div>\n",
              "<style scoped>\n",
              "    .dataframe tbody tr th:only-of-type {\n",
              "        vertical-align: middle;\n",
              "    }\n",
              "\n",
              "    .dataframe tbody tr th {\n",
              "        vertical-align: top;\n",
              "    }\n",
              "\n",
              "    .dataframe thead th {\n",
              "        text-align: right;\n",
              "    }\n",
              "</style>\n",
              "<table border=\"1\" class=\"dataframe\">\n",
              "  <thead>\n",
              "    <tr style=\"text-align: right;\">\n",
              "      <th></th>\n",
              "      <th>Text</th>\n",
              "      <th>language</th>\n",
              "    </tr>\n",
              "  </thead>\n",
              "  <tbody>\n",
              "    <tr>\n",
              "      <th>0</th>\n",
              "      <td>klement gottwaldi surnukeha palsameeriti ning ...</td>\n",
              "      <td>Estonian</td>\n",
              "    </tr>\n",
              "    <tr>\n",
              "      <th>1</th>\n",
              "      <td>sebes joseph pereira thomas  på eng the jesuit...</td>\n",
              "      <td>Swedish</td>\n",
              "    </tr>\n",
              "    <tr>\n",
              "      <th>2</th>\n",
              "      <td>ถนนเจริญกรุง อักษรโรมัน thanon charoen krung เ...</td>\n",
              "      <td>Thai</td>\n",
              "    </tr>\n",
              "    <tr>\n",
              "      <th>3</th>\n",
              "      <td>விசாகப்பட்டினம் தமிழ்ச்சங்கத்தை இந்துப் பத்திர...</td>\n",
              "      <td>Tamil</td>\n",
              "    </tr>\n",
              "    <tr>\n",
              "      <th>4</th>\n",
              "      <td>de spons behoort tot het geslacht haliclona en...</td>\n",
              "      <td>Dutch</td>\n",
              "    </tr>\n",
              "    <tr>\n",
              "      <th>5</th>\n",
              "      <td>エノが行きがかりでバスに乗ってしまい、気分が悪くなった際に助けるが、今すぐバスを降りたいと運...</td>\n",
              "      <td>Japanese</td>\n",
              "    </tr>\n",
              "    <tr>\n",
              "      <th>6</th>\n",
              "      <td>tsutinalar i̇ngilizce tsuutina kanadada albert...</td>\n",
              "      <td>Turkish</td>\n",
              "    </tr>\n",
              "    <tr>\n",
              "      <th>7</th>\n",
              "      <td>müller mox figura centralis circulorum doctoru...</td>\n",
              "      <td>Latin</td>\n",
              "    </tr>\n",
              "    <tr>\n",
              "      <th>8</th>\n",
              "      <td>برقی بار electric charge تمام زیرجوہری ذرات کی...</td>\n",
              "      <td>Urdu</td>\n",
              "    </tr>\n",
              "    <tr>\n",
              "      <th>9</th>\n",
              "      <td>シャーリー・フィールドは、サン・ベルナルド・アベニュー沿い市民センターとrtマーティン高校に...</td>\n",
              "      <td>Japanese</td>\n",
              "    </tr>\n",
              "  </tbody>\n",
              "</table>\n",
              "</div>"
            ],
            "text/plain": [
              "                                                Text  language\n",
              "0  klement gottwaldi surnukeha palsameeriti ning ...  Estonian\n",
              "1  sebes joseph pereira thomas  på eng the jesuit...   Swedish\n",
              "2  ถนนเจริญกรุง อักษรโรมัน thanon charoen krung เ...      Thai\n",
              "3  விசாகப்பட்டினம் தமிழ்ச்சங்கத்தை இந்துப் பத்திர...     Tamil\n",
              "4  de spons behoort tot het geslacht haliclona en...     Dutch\n",
              "5  エノが行きがかりでバスに乗ってしまい、気分が悪くなった際に助けるが、今すぐバスを降りたいと運...  Japanese\n",
              "6  tsutinalar i̇ngilizce tsuutina kanadada albert...   Turkish\n",
              "7  müller mox figura centralis circulorum doctoru...     Latin\n",
              "8  برقی بار electric charge تمام زیرجوہری ذرات کی...      Urdu\n",
              "9  シャーリー・フィールドは、サン・ベルナルド・アベニュー沿い市民センターとrtマーティン高校に...  Japanese"
            ]
          },
          "metadata": {},
          "execution_count": 4
        }
      ]
    },
    {
      "cell_type": "markdown",
      "metadata": {
        "id": "C6DaOkPF-o5Z"
      },
      "source": [
        "### Checking different unique languages in the dataset"
      ]
    },
    {
      "cell_type": "code",
      "metadata": {
        "colab": {
          "base_uri": "https://localhost:8080/"
        },
        "id": "0_phfpalilow",
        "outputId": "ace86b17-3fc0-4a40-c5e6-b5d302a210c6"
      },
      "source": [
        "lang = np.array(pd.unique(data['language']))\n",
        "print(\"Total number of langauges:\", len(lang))\n",
        "print(\"Languages in the dataset:\", lang)"
      ],
      "execution_count": null,
      "outputs": [
        {
          "output_type": "stream",
          "name": "stdout",
          "text": [
            "Total number of langauges: 22\n",
            "Languages in the dataset: ['Estonian' 'Swedish' 'Thai' 'Tamil' 'Dutch' 'Japanese' 'Turkish' 'Latin'\n",
            " 'Urdu' 'Indonesian' 'Portugese' 'French' 'Chinese' 'Korean' 'Hindi'\n",
            " 'Spanish' 'Pushto' 'Persian' 'Romanian' 'Russian' 'English' 'Arabic']\n"
          ]
        }
      ]
    },
    {
      "cell_type": "markdown",
      "metadata": {
        "id": "XC-odpT8_Pl4"
      },
      "source": [
        "### Checking the count of each language in the dataset"
      ]
    },
    {
      "cell_type": "code",
      "metadata": {
        "colab": {
          "base_uri": "https://localhost:8080/"
        },
        "id": "aFG9XNXTi4-s",
        "outputId": "feab0f1d-c7dd-4226-b298-41ea7b775d32"
      },
      "source": [
        "data['language'].value_counts()"
      ],
      "execution_count": null,
      "outputs": [
        {
          "output_type": "execute_result",
          "data": {
            "text/plain": [
              "Turkish       1000\n",
              "Urdu          1000\n",
              "Swedish       1000\n",
              "Pushto        1000\n",
              "Chinese       1000\n",
              "Romanian      1000\n",
              "Latin         1000\n",
              "Estonian      1000\n",
              "Arabic        1000\n",
              "Portugese     1000\n",
              "Dutch         1000\n",
              "Hindi         1000\n",
              "Korean        1000\n",
              "Japanese      1000\n",
              "French        1000\n",
              "Thai          1000\n",
              "Tamil         1000\n",
              "Russian       1000\n",
              "English       1000\n",
              "Spanish       1000\n",
              "Persian       1000\n",
              "Indonesian    1000\n",
              "Name: language, dtype: int64"
            ]
          },
          "metadata": {},
          "execution_count": 6
        }
      ]
    },
    {
      "cell_type": "markdown",
      "metadata": {
        "id": "0B1m3HL5_Uym"
      },
      "source": [
        "### Preprocessing the dataset"
      ]
    },
    {
      "cell_type": "code",
      "metadata": {
        "id": "qC75LF-RINAT"
      },
      "source": [
        "def data_preprocess(text):\n",
        "  # Removing numbers and symbols\n",
        "  text = re.sub(r'[!@#$()-_,n\"%^*?:;~`0-9]', ' ', text) \n",
        "  text = re.sub(r'[[]]', ' ', text)\n",
        "  # Lowercasing the text\n",
        "  text = text.lower() \n",
        "  return text"
      ],
      "execution_count": null,
      "outputs": []
    },
    {
      "cell_type": "code",
      "metadata": {
        "colab": {
          "base_uri": "https://localhost:8080/"
        },
        "id": "ROBdk8cYnKSF",
        "outputId": "1c8075be-d566-4199-84b1-73d445574c3a"
      },
      "source": [
        "i = 0\n",
        "# Looping over all the\n",
        "for text in data['Text']:\n",
        "  # Updating with the preprocessed dataset\n",
        "  data['Text'][i] = data_preprocess(text)\n",
        "  i += 1"
      ],
      "execution_count": null,
      "outputs": [
        {
          "output_type": "stream",
          "name": "stderr",
          "text": [
            "/usr/local/lib/python3.7/dist-packages/ipykernel_launcher.py:4: FutureWarning: Possible nested set at position 1\n",
            "  after removing the cwd from sys.path.\n"
          ]
        }
      ]
    },
    {
      "cell_type": "markdown",
      "metadata": {
        "id": "xUeHcOcK_enQ"
      },
      "source": [
        "### Splitting the dataset into train, validation and test sets"
      ]
    },
    {
      "cell_type": "code",
      "metadata": {
        "id": "aPA54PsUSaFt",
        "colab": {
          "base_uri": "https://localhost:8080/"
        },
        "outputId": "53101d37-5b22-42d4-f857-e7f9ab2c0cb4"
      },
      "source": [
        "import math # math library\n",
        "\n",
        "# Fraction of training examples\n",
        "train_split = 0.6\n",
        "# Fraction of testing examples\n",
        "validation_split = 0.2\n",
        "\n",
        "# Length of the dataset\n",
        "length = len(data)\n",
        "\n",
        "# Splitting the dataset\n",
        "range1 = math.floor(0.6*length)\n",
        "range2 = math.floor(0.6*length) + math.floor(0.2*length)\n",
        "training_data = data[:range1]\n",
        "validation_data =  data[range1: range2]\n",
        "testing_data = data[range2:]\n",
        "\n",
        "# Size of train, validation and test dataset\n",
        "print(\"Training data length: \", len(training_data))\n",
        "print(\"Validation data length: \", len(validation_data))\n",
        "print(\"Testing data length: \",len(testing_data))"
      ],
      "execution_count": null,
      "outputs": [
        {
          "output_type": "stream",
          "name": "stdout",
          "text": [
            "Training data length:  13200\n",
            "Validation data length:  4400\n",
            "Testing data length:  4400\n"
          ]
        }
      ]
    },
    {
      "cell_type": "markdown",
      "metadata": {
        "id": "Wc7b4eeZ_2wS"
      },
      "source": [
        "### Getting the n-grams from the dataset\n",
        "\n",
        "The lower and upper boundary of the range of n-values for different word n-grams or char n-grams to be extracted. All values of n such such that min_n <= n <= max_n will be used. For example an ngram_range of (1, 1) means only unigrams, (1, 2) means unigrams and bigrams, and (2, 2) means only bigrams. n-feat represents number of most important n-gram features to be extracted from corpus.\n"
      ]
    },
    {
      "cell_type": "code",
      "metadata": {
        "id": "oht1jCSjoVU9"
      },
      "source": [
        "# Import CountVectorizer object\n",
        "from sklearn.feature_extraction.text import CountVectorizer\n",
        "\n",
        "# Function to extract n-grams\n",
        "def get_n_grams(corpus, n_feat, min_n, max_n):\n",
        "    #fit the n-gram model\n",
        "    vectorizer = CountVectorizer(analyzer = 'char',\n",
        "                                 ngram_range = (min_n, max_n),\n",
        "                                 max_features = n_feat)\n",
        "    # Train vectorizer on given corpus\n",
        "    X = vectorizer.fit_transform(corpus)\n",
        "    # Get model feature names\n",
        "    feature_names = vectorizer.get_feature_names()\n",
        "    return feature_names"
      ],
      "execution_count": null,
      "outputs": []
    },
    {
      "cell_type": "markdown",
      "metadata": {
        "id": "gl8A30arhcdl"
      },
      "source": [
        "### Building the vocabulary\n",
        "\n",
        "The following are changeable hyperparameters:\n",
        "1. n_feat = 200 # No of n-grams to be extracted from single language\n",
        "2. min_n = 3 # min n-gram\n",
        "3. max_n = 3 # max n-gram"
      ]
    },
    {
      "cell_type": "code",
      "metadata": {
        "id": "byVRjxmOoZOD"
      },
      "source": [
        "n_feat = 200 # No of n-grams to be extracted from single language\n",
        "min_n = 3 # min n-gram\n",
        "max_n = 3 # max n-gram\n",
        "\n",
        "#obtain n-grams from each language\n",
        "features_set = set()\n",
        "lang = pd.unique(training_data['language'])\n",
        "for l in lang:\n",
        "    # get corpus filtered by language\n",
        "    corpus = data[data.language==l]['Text']\n",
        "    # get n_feat most frequent trigrams\n",
        "    trigrams = get_n_grams(corpus, n_feat, min_n, max_n)\n",
        "    # add to set\n",
        "    features_set.update(trigrams)\n",
        "    \n",
        "#create vocabulary list using feature set\n",
        "vocab = dict()\n",
        "for i,f in enumerate(features_set):\n",
        "    vocab[f]=i"
      ],
      "execution_count": null,
      "outputs": []
    },
    {
      "cell_type": "markdown",
      "metadata": {
        "id": "DHybnT6gBHVp"
      },
      "source": [
        "### Length of vocabulary"
      ]
    },
    {
      "cell_type": "code",
      "metadata": {
        "colab": {
          "base_uri": "https://localhost:8080/"
        },
        "id": "JtIrdHCJW16K",
        "outputId": "0bb2305d-e1c0-4805-e130-3e34947b454f"
      },
      "source": [
        "vocab_length = len(vocab)\n",
        "print(vocab_length)"
      ],
      "execution_count": null,
      "outputs": [
        {
          "output_type": "stream",
          "name": "stdout",
          "text": [
            "2845\n"
          ]
        }
      ]
    },
    {
      "cell_type": "markdown",
      "metadata": {
        "id": "RHbG9BXv-9mc"
      },
      "source": [
        "### Creating feature matrix for training, validation and text data"
      ]
    },
    {
      "cell_type": "code",
      "metadata": {
        "id": "EVB4CJe6o5rB"
      },
      "source": [
        "#train count vectoriser using vocabulary\n",
        "vectorizer = CountVectorizer(analyzer='char',\n",
        "                             ngram_range=(3, 3),\n",
        "                             vocabulary=vocab)\n",
        "\n",
        "#create feature matrix for training set\n",
        "corpus = training_data['Text']   \n",
        "X = vectorizer.fit_transform(corpus)\n",
        "feature_names = vectorizer.get_feature_names()\n",
        "training_feat = pd.DataFrame(data=X.toarray(),columns=feature_names)\n",
        "\n",
        "#Scale feature matrix \n",
        "train_min = training_feat.min()\n",
        "train_max = training_feat.max()\n",
        "training_feat = (training_feat - train_min)/(train_max-train_min)\n",
        "\n",
        "#Add target variable \n",
        "training_feat['language'] = list(training_data['language'])\n",
        "\n",
        "#create feature matrix for validation set\n",
        "corpus = validation_data['Text']   \n",
        "X = vectorizer.fit_transform(corpus)\n",
        "\n",
        "validation_feat = pd.DataFrame(data=X.toarray(),columns=feature_names)\n",
        "validation_feat = (validation_feat - train_min)/(train_max-train_min)\n",
        "validation_feat['language'] = list(validation_data['language'])\n",
        "\n",
        "#create feature matrix for test set\n",
        "corpus = testing_data['Text']   \n",
        "X = vectorizer.fit_transform(corpus)\n",
        "\n",
        "testing_feat = pd.DataFrame(data=X.toarray(),columns=feature_names)\n",
        "testing_feat = (testing_feat - train_min)/(train_max-train_min)\n",
        "testing_feat['language'] = list(testing_data['language'])"
      ],
      "execution_count": null,
      "outputs": []
    },
    {
      "cell_type": "code",
      "metadata": {
        "colab": {
          "base_uri": "https://localhost:8080/"
        },
        "id": "Qv7bfiy2WryA",
        "outputId": "bd9dfa95-7756-46f3-aaf2-2c1e5b6ed05a"
      },
      "source": [
        "training_feat.shape"
      ],
      "execution_count": null,
      "outputs": [
        {
          "output_type": "execute_result",
          "data": {
            "text/plain": [
              "(13200, 2846)"
            ]
          },
          "metadata": {},
          "execution_count": 14
        }
      ]
    },
    {
      "cell_type": "code",
      "metadata": {
        "colab": {
          "base_uri": "https://localhost:8080/"
        },
        "id": "zq5pQjx2YHae",
        "outputId": "558102a2-b84b-4f90-87d8-8ea2dec1601c"
      },
      "source": [
        "validation_feat.shape"
      ],
      "execution_count": null,
      "outputs": [
        {
          "output_type": "execute_result",
          "data": {
            "text/plain": [
              "(4400, 2846)"
            ]
          },
          "metadata": {},
          "execution_count": 15
        }
      ]
    },
    {
      "cell_type": "code",
      "metadata": {
        "colab": {
          "base_uri": "https://localhost:8080/"
        },
        "id": "RiHTqBGRZ1pG",
        "outputId": "a556b5c7-6fa2-446e-9e97-dd898372cd3d"
      },
      "source": [
        "testing_feat.shape"
      ],
      "execution_count": null,
      "outputs": [
        {
          "output_type": "execute_result",
          "data": {
            "text/plain": [
              "(4400, 2846)"
            ]
          },
          "metadata": {},
          "execution_count": 16
        }
      ]
    },
    {
      "cell_type": "markdown",
      "metadata": {
        "id": "Fa6eNDbnCFlf"
      },
      "source": [
        "### Encode the target vector"
      ]
    },
    {
      "cell_type": "code",
      "metadata": {
        "id": "qJfxSW64jYpy"
      },
      "source": [
        "from sklearn.preprocessing import LabelEncoder\n",
        "from keras.utils import np_utils\n",
        "\n",
        "#Fit encoder\n",
        "encoder = LabelEncoder()\n",
        "encoder.fit(lang)\n",
        "\n",
        "def encode(y):\n",
        "    y_encoded = encoder.transform(y)\n",
        "    y_dummy = np_utils.to_categorical(y_encoded)\n",
        "    return y_dummy"
      ],
      "execution_count": null,
      "outputs": []
    },
    {
      "cell_type": "markdown",
      "metadata": {
        "id": "h4OHY-smLfAJ"
      },
      "source": [
        "### Building and training the DNN"
      ]
    },
    {
      "cell_type": "code",
      "metadata": {
        "id": "CLniJnuEan0a"
      },
      "source": [
        "# Importing keras\n",
        "from keras.models import Sequential\n",
        "from keras.layers import Dense\n",
        "from keras.layers import Dropout\n",
        "\n",
        "#Get training data\n",
        "x = training_feat.drop('language',axis=1)\n",
        "y = encode(training_feat['language'])\n",
        "x_val = validation_feat.drop('language',axis=1)\n",
        "y_val = encode(validation_feat['language'])\n",
        "\n",
        "#Define model\n",
        "model = Sequential()\n",
        "#input dimension is the length of vocabulary\n",
        "model.add(Dense(512, input_dim=vocab_length, activation='relu'))\n",
        "model.add(Dense(256, activation='relu'))\n",
        "model.add(Dense(256, activation='relu'))\n",
        "# Output dimension is the length of total number of target languages\n",
        "model.add(Dense(len(lang), activation='softmax'))\n",
        "model.compile(loss='categorical_crossentropy', optimizer='adam', metrics=['accuracy'])"
      ],
      "execution_count": null,
      "outputs": []
    },
    {
      "cell_type": "markdown",
      "metadata": {
        "id": "2HnzL4pwMHXD"
      },
      "source": [
        "### Training the model\n",
        "Hyperparameters:\n",
        "1. epochs : No of times dataset is passed forward and backward through the neural network.\n",
        "2. batch_size : The number of examples in a batch."
      ]
    },
    {
      "cell_type": "code",
      "metadata": {
        "colab": {
          "base_uri": "https://localhost:8080/"
        },
        "id": "H3ypWdaOMBSk",
        "outputId": "e16ef167-4aa3-47ed-9d92-5397b85960e2"
      },
      "source": [
        "epochs = 4 # No of times dataset is passed forward and backward through the neural network\n",
        "batch_size = 100 # The number of examples in a batch\n",
        "\n",
        "history = model.fit(x, y, epochs=epochs, batch_size=batch_size, validation_data=(x_val, y_val))"
      ],
      "execution_count": null,
      "outputs": [
        {
          "output_type": "stream",
          "name": "stdout",
          "text": [
            "Epoch 1/4\n",
            "132/132 [==============================] - 4s 28ms/step - loss: 0.5276 - accuracy: 0.9148 - val_loss: 0.1027 - val_accuracy: 0.9800\n",
            "Epoch 2/4\n",
            "132/132 [==============================] - 3s 25ms/step - loss: 0.0715 - accuracy: 0.9849 - val_loss: 0.0783 - val_accuracy: 0.9845\n",
            "Epoch 3/4\n",
            "132/132 [==============================] - 3s 25ms/step - loss: 0.0303 - accuracy: 0.9933 - val_loss: 0.0863 - val_accuracy: 0.9832\n",
            "Epoch 4/4\n",
            "132/132 [==============================] - 3s 25ms/step - loss: 0.0146 - accuracy: 0.9973 - val_loss: 0.0881 - val_accuracy: 0.9850\n"
          ]
        }
      ]
    },
    {
      "cell_type": "markdown",
      "metadata": {
        "id": "iOsujt0a9h7M"
      },
      "source": [
        "### Plotting the results"
      ]
    },
    {
      "cell_type": "code",
      "metadata": {
        "colab": {
          "base_uri": "https://localhost:8080/",
          "height": 573
        },
        "id": "mIUVkHzz9lOS",
        "outputId": "41048dcd-73da-42b9-b1c7-2252b4513a0a"
      },
      "source": [
        "# summarize history for accuracy\n",
        "plt.plot(history.history['accuracy'])\n",
        "plt.plot(history.history['val_accuracy'])\n",
        "plt.title('model accuracy')\n",
        "plt.ylabel('accuracy')\n",
        "plt.xlabel('epoch')\n",
        "plt.legend(['train', 'validation'], loc='upper left')\n",
        "plt.show()\n",
        "# summarize history for loss\n",
        "plt.plot(history.history['loss'])\n",
        "plt.plot(history.history['val_loss'])\n",
        "plt.title('model loss')\n",
        "plt.ylabel('loss')\n",
        "plt.xlabel('epoch')\n",
        "plt.legend(['train', 'validation'], loc='upper left')\n",
        "plt.show()"
      ],
      "execution_count": null,
      "outputs": [
        {
          "output_type": "display_data",
          "data": {
            "image/png": "[encoded data removed]",
            "text/plain": [
              "<Figure size 432x288 with 1 Axes>"
            ]
          },
          "metadata": {
            "needs_background": "light"
          }
        },
        {
          "output_type": "display_data",
          "data": {
            "image/png": "[encoded data removed]",
            "text/plain": [
              "<Figure size 432x288 with 1 Axes>"
            ]
          },
          "metadata": {
            "needs_background": "light"
          }
        }
      ]
    },
    {
      "cell_type": "markdown",
      "metadata": {
        "id": "re0TlfNmDCUY"
      },
      "source": [
        "### Evaluating on the test set"
      ]
    },
    {
      "cell_type": "code",
      "metadata": {
        "colab": {
          "base_uri": "https://localhost:8080/"
        },
        "id": "DbjxzYoBcpLn",
        "outputId": "a6a321ec-fc3b-455d-bf57-b01a554236bf"
      },
      "source": [
        "x_test = testing_feat.drop('language',axis=1)\n",
        "y_test = encode(testing_feat['language'])\n",
        "history = model.evaluate(x_test, y_test)"
      ],
      "execution_count": null,
      "outputs": [
        {
          "output_type": "stream",
          "name": "stdout",
          "text": [
            "138/138 [==============================] - 1s 5ms/step - loss: 0.1034 - accuracy: 0.9786\n"
          ]
        }
      ]
    },
    {
      "cell_type": "markdown",
      "metadata": {
        "id": "SQbIfESNAMUI"
      },
      "source": [
        "### Saving the model in current location"
      ]
    },
    {
      "cell_type": "code",
      "metadata": {
        "id": "PlbjPDShGg-6"
      },
      "source": [
        "model.save('model.h5')"
      ],
      "execution_count": null,
      "outputs": []
    },
    {
      "cell_type": "markdown",
      "metadata": {
        "id": "yNxxudg-ASif"
      },
      "source": [
        "### Saving the parameters in current location"
      ]
    },
    {
      "cell_type": "code",
      "metadata": {
        "id": "sfmX6O_IEjAW"
      },
      "source": [
        "import pickle\n",
        "filename = 'parameters.sav'\n",
        "list_of_dumps = [train_max, train_min, vectorizer, feature_names, encoder]\n",
        "pickle.dump(list_of_dumps, open(filename, 'wb'))"
      ],
      "execution_count": null,
      "outputs": []
    },
    {
      "cell_type": "markdown",
      "metadata": {
        "id": "tOj56yAsDJde"
      },
      "source": [
        "### Making sample predictions"
      ]
    },
    {
      "cell_type": "markdown",
      "metadata": {
        "id": "uuLD11K1lsAh"
      },
      "source": [
        "### Detecting the language"
      ]
    },
    {
      "cell_type": "code",
      "metadata": {
        "id": "9KLabzsMdf09"
      },
      "source": [
        "# Preprocessing each text line\n",
        "def data_preprocess(text):\n",
        "  # Removing numbers and symbols\n",
        "  text = re.sub(r'[!@#$()-_,n\"%^*?:;~`0-9]', ' ', text) \n",
        "  text = re.sub(r'[[]]', ' ', text)\n",
        "  # Lowercasing the text\n",
        "  text = text.lower() \n",
        "  return text\n",
        "\n",
        "# Function to detect language\n",
        "def detect_language(text):\n",
        "  text = data_preprocess(text)\n",
        "  X = vectorizer.fit_transform([text])\n",
        "  X_feat = pd.DataFrame(data=X.toarray(),columns=feature_names)\n",
        "  X_feat = (X_feat - train_min)/(train_max-train_min)\n",
        "  predicted_my_val = model.predict(X_feat)\n",
        "  val = np.where(predicted_my_val[0] == np.amax(predicted_my_val[0]))[0]\n",
        "  print(\"Detected Language :\", encoder.classes_[val[0]])"
      ],
      "execution_count": null,
      "outputs": []
    },
    {
      "cell_type": "code",
      "metadata": {
        "colab": {
          "base_uri": "https://localhost:8080/"
        },
        "id": "rjCAxiubEPZZ",
        "outputId": "df67d199-3792-4a09-877c-11b875bb52ec"
      },
      "source": [
        "my_text = input(\"Enter the text : \")\n",
        "my_val = detect_language(my_text)"
      ],
      "execution_count": null,
      "outputs": [
        {
          "output_type": "stream",
          "name": "stdout",
          "text": [
            "Enter the text : De taal is in grammaticaal opzicht verregaand gelijk aan het Hindi dat in Bollywood-films wordt gesproken. De taal die in Bollywood-films wordt gesproken bevat elementen van beide officiële talen. Overigens zit het verschil hoofdzakelijk in de aan het Arabisch en Perzisch ontleende woordenschat en constructies. De divergerende ontwikkeling van Hindi en\n",
            "Detected Language : Dutch\n"
          ]
        }
      ]
    }
  ]
}