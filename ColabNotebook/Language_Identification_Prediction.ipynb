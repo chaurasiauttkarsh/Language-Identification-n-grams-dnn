{
  "nbformat": 4,
  "nbformat_minor": 0,
  "metadata": {
    "colab": {
      "name": "Language Identification - Prediction.ipynb",
      "provenance": [],
      "authorship_tag": "ABX9TyMzGNon4vJmk13qK+iOqded",
      "include_colab_link": true
    },
    "kernelspec": {
      "name": "python3",
      "display_name": "Python 3"
    },
    "language_info": {
      "name": "python"
    }
  },
  "cells": [
    {
      "cell_type": "markdown",
      "metadata": {
        "id": "view-in-github",
        "colab_type": "text"
      },
      "source": [
        "<a href=\"https://colab.research.google.com/github/chaurasiauttkarsh/Language-Identification-n-grams-dnn/blob/main/ColabNotebook/Language_Identification_Prediction.ipynb\" target=\"_parent\"><img src=\"https://colab.research.google.com/assets/colab-badge.svg\" alt=\"Open In Colab\"/></a>"
      ]
    },
    {
      "cell_type": "markdown",
      "metadata": {
        "id": "5linDYeMxWSg"
      },
      "source": [
        "### Prediction using the trained model\n"
      ]
    },
    {
      "cell_type": "code",
      "metadata": {
        "colab": {
          "base_uri": "https://localhost:8080/"
        },
        "id": "WfZtldRUxjIu",
        "outputId": "1083cba1-9760-4ab0-e895-f3dd176d2fe8"
      },
      "source": [
        "from google.colab import drive \n",
        "drive.mount('/content/gdrive')"
      ],
      "execution_count": null,
      "outputs": [
        {
          "output_type": "stream",
          "name": "stdout",
          "text": [
            "Mounted at /content/gdrive\n"
          ]
        }
      ]
    },
    {
      "cell_type": "markdown",
      "metadata": {
        "id": "5ZqzS-v-7X7x"
      },
      "source": [
        "#### Navigating to the location where model and parameter files are present\n",
        "1. model.h5\n",
        "2. parameters.sav"
      ]
    },
    {
      "cell_type": "code",
      "metadata": {
        "colab": {
          "base_uri": "https://localhost:8080/"
        },
        "id": "K1gaB7GexwTM",
        "outputId": "6c4bbd5b-9d2e-4d28-8448-45ee007b7f4d"
      },
      "source": [
        "cd /content/gdrive/MyDrive/NLP/Language Identification"
      ],
      "execution_count": null,
      "outputs": [
        {
          "output_type": "stream",
          "name": "stdout",
          "text": [
            "/content/gdrive/MyDrive/NLP/Language Identification\n"
          ]
        }
      ]
    },
    {
      "cell_type": "markdown",
      "metadata": {
        "id": "0e4CHqis7vLu"
      },
      "source": [
        "#### Function to predict the language from text"
      ]
    },
    {
      "cell_type": "code",
      "metadata": {
        "id": "7xzIiC2CxVl5"
      },
      "source": [
        "# Importing the libraries\n",
        "from tensorflow import keras # keras\n",
        "import pickle # pickle\n",
        "import numpy as np #numpy\n",
        "import re # regular expressions\n",
        "import pandas as pd # pandas\n",
        "\n",
        "try:\n",
        "    model = keras.models.load_model('model.h5')\n",
        "except:\n",
        "    print(\"Error : Model not found!!!\")\n",
        "try:\n",
        "    infile = open('parameters.sav','rb')\n",
        "    train_max, train_min, vectorizer, feature_names, encoder = pickle.load(infile)\n",
        "except:\n",
        "    print(\"Error : Parameters not found!!!\")\n",
        "\n",
        "# Preprocessing each text line\n",
        "def data_preprocess(text):\n",
        "    # Removing numbers and symbols\n",
        "    text = re.sub(r'[!@#$()-_,n\"%^*?:;~`0-9]', ' ', text) \n",
        "    text = re.sub(r'[[]]', ' ', text)\n",
        "    # Lowercasing the text\n",
        "    text = text.lower() \n",
        "    return text\n",
        "\n",
        "# Function to detect language\n",
        "def detect_language(text):\n",
        "    text = data_preprocess(text)\n",
        "    X = vectorizer.fit_transform([text])\n",
        "    X_feat = pd.DataFrame(data=X.toarray(),columns=feature_names)\n",
        "    X_feat = (X_feat - train_min)/(train_max-train_min)\n",
        "    predicted_my_val = model.predict(X_feat)\n",
        "    val = np.where(predicted_my_val[0] == np.amax(predicted_my_val[0]))[0]\n",
        "    print(\"Detected Language :\", encoder.classes_[val[0]])"
      ],
      "execution_count": null,
      "outputs": []
    },
    {
      "cell_type": "code",
      "metadata": {
        "colab": {
          "base_uri": "https://localhost:8080/"
        },
        "id": "A1VE2ttVx-CK",
        "outputId": "52ca65e9-17d9-4e04-d564-d0bf1b8078c4"
      },
      "source": [
        "my_text = input(\"Enter the text : \")\n",
        "my_val = detect_language(my_text)"
      ],
      "execution_count": null,
      "outputs": [
        {
          "name": "stdout",
          "output_type": "stream",
          "text": [
            "Enter the text : اظ سے یہ بھارت کی چھٹی بڑی زبان ہے جبکہ پاکستان میں اسے بطور مادری زبان 7.59% فیصد لوگ استعمال کرتے ہیں، یہ پاکستان کی پانچویں بڑی زبان ہے۔ اردو تاریخی طور پر ہندوستان کی مسلم آبادی سے جڑی ہے۔[حوالہ درکار] بعض ذخیرہ الفاظ کے علاوہ یہ زبان معیاری ہندی سے قابل فہم ہے جو اس خطے کی ہندوؤں سے منسوب ہے۔[حوالہ درکار] زبانِ اردو کو پہچان و ترقی اس وقت ملی جب برطانوی دور میں انگریز حکمرانوں نے اسے فارسی کی بجائے انگریزی کے ساتھ شمالی ہندوستان کے علاقوں اور جموں و کشمیر میں اسے سنہ 1846ء اور پنجاب میں سنہ 1849ء میں بطور دفتری زبان نافذ کیا۔ اس کے علاوہ خلیجی، یورپی، ایشیائی اور امریکی علاق\n"
          ]
        },
        {
          "output_type": "stream",
          "name": "stderr",
          "text": [
            "/usr/local/lib/python3.7/dist-packages/ipykernel_launcher.py:22: FutureWarning: Possible nested set at position 1\n"
          ]
        },
        {
          "output_type": "stream",
          "name": "stdout",
          "text": [
            "Detected Language : Urdu\n"
          ]
        }
      ]
    }
  ]
}